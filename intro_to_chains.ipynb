{
 "cells": [
  {
   "cell_type": "markdown",
   "id": "6184a554-1851-4a31-abf1-87c2561f29be",
   "metadata": {},
   "source": [
    "# **Chains**\n",
    "\n",
    "Chains allows us to link the output of one LLM call as the input of another call.\n",
    "\n",
    "Chains refer to sequences of calls - whether to an LLM, a tool, or a data preprocessing step. The primary supported way to do this is with LCEL."
   ]
  },
  {
   "cell_type": "markdown",
   "id": "5684de3e-ab75-4792-b353-c2fcd18bb890",
   "metadata": {},
   "source": [
    "### **Legacy Chains**\n",
    "\n",
    "- **LLMChain (Legacy)**\n",
    "- **SimpleSequentialChain (Legacy)**"
   ]
  }
 ],
 "metadata": {
  "kernelspec": {
   "display_name": "Python 3 (ipykernel)",
   "language": "python",
   "name": "python3"
  },
  "language_info": {
   "codemirror_mode": {
    "name": "ipython",
    "version": 3
   },
   "file_extension": ".py",
   "mimetype": "text/x-python",
   "name": "python",
   "nbconvert_exporter": "python",
   "pygments_lexer": "ipython3",
   "version": "3.12.4"
  }
 },
 "nbformat": 4,
 "nbformat_minor": 5
}
